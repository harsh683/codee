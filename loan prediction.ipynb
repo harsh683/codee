{
 "cells": [
  {
   "cell_type": "code",
   "execution_count": 1,
   "metadata": {},
   "outputs": [],
   "source": [
    "import pandas as pd\n",
    "import numpy as np"
   ]
  },
  {
   "cell_type": "code",
   "execution_count": 2,
   "metadata": {},
   "outputs": [],
   "source": [
    "import pickle\n",
    "infile = open('rf_model','rb')\n",
    "model = pickle.load(infile)\n",
    "infile.close()"
   ]
  },
  {
   "cell_type": "markdown",
   "metadata": {},
   "source": [
    "Run and give inputs and get value"
   ]
  },
  {
   "cell_type": "code",
   "execution_count": 29,
   "metadata": {},
   "outputs": [
    {
     "name": "stdout",
     "output_type": "stream",
     "text": [
      "Are you a male? type \"1\" for \"YES\" or \"0\" for \"no\" : 1\n",
      "Are you married? type \"1\" for \"YES\" or \"0\" for \"no\" : 0\n",
      "Are you self_employed? type \"1\" for \"YES\" or \"0\" for \"no\" : 0\n",
      "Are you not a graduate? type \"1\" for \"YES\" or \"0\" for \"no\" : 1\n",
      "Whats your property area? type \"1\" for \"SEMIURBAN\" or \"0\" for \"RURAL\" or \"URBAN\" : 1\n",
      "Whats your property area? type \"1\" for URBAN or \"0\" for RURAL/SEMIURBAN : 1\n",
      "How many dependents do you have?3\n",
      "Whats your income? 155500\n",
      "Whats your spouses income? 20000\n",
      "What amount of loan you want? 5000000\n",
      "For how much time? 5\n",
      "What is your credit history1\n",
      "Yes, You can get a loan\n"
     ]
    }
   ],
   "source": [
    "a = int(input('Are you a male? type \"1\" for \"YES\" or \"0\" for \"no\" : '))\n",
    "b = int(input('Are you married? type \"1\" for \"YES\" or \"0\" for \"no\" : '))\n",
    "c = int(input('Are you self_employed? type \"1\" for \"YES\" or \"0\" for \"no\" : '))\n",
    "d = int(input('Are you not a graduate? type \"1\" for \"YES\" or \"0\" for \"no\" : '))\n",
    "e = int(input('Whats your property area? type \"1\" for \"SEMIURBAN\" or \"0\" for \"RURAL\" or \"URBAN\" : '))\n",
    "f = int(input('Whats your property area? type \"1\" for URBAN or \"0\" for RURAL/SEMIURBAN : '))\n",
    "g = int(input('How many dependents do you have?'))\n",
    "h = int(input('Whats your income? '))\n",
    "i = int(input('Whats your spouses income? '))\n",
    "j = int(input('What amount of loan you want? '))\n",
    "k = int(input('For how much time? '))\n",
    "l = int(input('What is your credit history'))\n",
    "value = np.array([a,b,c,d,e,f,g,h,i,j,k,l])\n",
    "cols=['Gender_Male','Married_Yes','Self_Employed_Yes','Education_Not Graduate','Property_Area_Semiurban','Property_Area_Urban','Dependents','ApplicantIncome','CoapplicantIncome','LoanAmount','Loan_Amount_Term','Credit_History']\n",
    "df=pd.DataFrame(value.reshape(1,12),columns=cols)\n",
    "if model.predict(df).item() == 'Y':\n",
    "        print(\"Yes, You can get a loan\")\n",
    "else:\n",
    "        print(\"Sorry!, No loan for you\")"
   ]
  },
  {
   "cell_type": "code",
   "execution_count": null,
   "metadata": {},
   "outputs": [],
   "source": []
  }
 ],
 "metadata": {
  "kernelspec": {
   "display_name": "Python 3",
   "language": "python",
   "name": "python3"
  },
  "language_info": {
   "codemirror_mode": {
    "name": "ipython",
    "version": 3
   },
   "file_extension": ".py",
   "mimetype": "text/x-python",
   "name": "python",
   "nbconvert_exporter": "python",
   "pygments_lexer": "ipython3",
   "version": "3.7.3"
  }
 },
 "nbformat": 4,
 "nbformat_minor": 2
}
